{
 "cells": [
  {
   "cell_type": "markdown",
   "metadata": {},
   "source": [
    "# CSCI 5454: Assignment 4\n",
    "\n",
    "Your Name: Akash Iyengar\n",
    "\n",
    "\n",
    "Collaborated With:\n"
   ]
  },
  {
   "cell_type": "markdown",
   "metadata": {},
   "source": [
    "## Problem 1 (10 points)\n",
    "\n",
    "Consider the program below:\n",
    "\n",
    "`def findMinimum(a):\n",
    "     n = len(a)\n",
    "     minSoFar =  math.inf\n",
    "     for i in range(n):\n",
    "         if (a[i] < minSoFar):\n",
    "            minSoFar = a[i] # <-- X\n",
    "     return minSoFar`\n",
    "     \n",
    " If $a$ is a random array of numbers $1, \\ldots, n$ such that any of the $n!$ permutations is equally probable. What is the expected number of times the variable `minSoFar` is updated in the for loop (i.e, the statement marked \"X\" is executed)? Your answer must be a function of $n$, asymptotic notation is fine and you must show the steps/justification that you used to arrive at your answer clearly and concisely."
   ]
  },
  {
   "cell_type": "markdown",
   "metadata": {},
   "source": [
    "> 1. Consider f(n) to be the average number of updations of minSoFar<br/>\n",
    "> 2. Assuming the last element is not the smallest, f(n) = f(n-1)<br/>\n",
    "> 3. Assuming the last element is the smallest, then f(n) = f(n-1) + 1.<br/>\n",
    "> 4. If the last number is smallest with probability 1/n, and not the smallest with probability (n-1)/n<br/>\n",
    "> 5. The Equation can be given as:<br/>\n",
    "$$ f(n) = (n-1)/n*f(n-1) + 1/n*(f(n-1) + 1)$$\n",
    "> 6. Expanding the equation we get.\n",
    "$$ f(n) = f(n-1) + 1/n$$\n",
    "\n",
    "$$ \\begin{array}{rclcl}\n",
    " f(1) = 1\\\\\n",
    " f(2) = 0 + 1/2\\\\\n",
    " f(3) = 0 + 1/2 + 1/3\\\\\n",
    " f(4) = 0 + 1/2 + 1/3 + 1/4\\\\\n",
    "\\end{array}$$.\n",
    "\n",
    "> since its a harmonic series,its O(logn)\n",
    "\n",
    "\n",
    "\n"
   ]
  },
  {
   "cell_type": "markdown",
   "metadata": {},
   "source": [
    "## Problem 2A (10 points)\n",
    "\n",
    "We will now consider a scheme to randomly permute an array of size $n$. You are allowed to generate a single random bit at a time using the `random.getrandbits(1)` function. Write a function `shuffleArray` that will shuffle an input array of $n$ integers so that any permutation is equally probable.\n",
    "\n",
    "- __Input:__ original list.\n",
    "- __Return:__ shuffled list.\n",
    "\n",
    "You __should not__ modify the original array.  You are __forbidden__ to use any random number generator other than `random.getrandbits(1)`.\n"
   ]
  },
  {
   "cell_type": "code",
   "execution_count": 11,
   "metadata": {},
   "outputs": [],
   "source": [
    "import random\n",
    "from random import getrandbits\n",
    "def shuffleArray(a):\n",
    "    y=len(a)\n",
    "    for i in range(y-1,0,-1):\n",
    "        j= random.getrandbits(1)\n",
    "        a[i],a[j] = a[j],a[i]\n",
    "    return a"
   ]
  },
  {
   "cell_type": "code",
   "execution_count": 12,
   "metadata": {
    "scrolled": true
   },
   "outputs": [
    {
     "name": "stdout",
     "output_type": "stream",
     "text": [
      "Chi-Squared value = 16.706\n",
      "Chi-Squared value = 15.98\n",
      "Chi-Squared value = 8.162\n"
     ]
    },
    {
     "data": {
      "image/png": "[encoded data removed]",
      "text/plain": [
       "<Figure size 432x288 with 1 Axes>"
      ]
     },
     "metadata": {},
     "output_type": "display_data"
    },
    {
     "data": {
      "image/png": "[encoded data removed]",
      "text/plain": [
       "<Figure size 432x288 with 1 Axes>"
      ]
     },
     "metadata": {},
     "output_type": "display_data"
    },
    {
     "data": {
      "image/png": "[encoded data removed]",
      "text/plain": [
       "<Figure size 432x288 with 1 Axes>"
      ]
     },
     "metadata": {},
     "output_type": "display_data"
    }
   ],
   "source": [
    "%matplotlib inline\n",
    "## Begin statistical tests\n",
    "import scipy.stats\n",
    "import matplotlib.pyplot as plt\n",
    "from scipy.stats import chisquare\n",
    "\n",
    "def placementTest(n, nTrials, elt):\n",
    "    a = list(range(n))\n",
    "    where = []\n",
    "    for i in range(nTrials):\n",
    "        b = shuffleArray(a)\n",
    "        # find where element n/2 ended up\n",
    "        j = b.index(elt)\n",
    "        where.append(j)\n",
    "        \n",
    "    plt.figure(\"Position of elt. %d\"%(elt))\n",
    "    plt.hist(where, bins=80)\n",
    "    plt.xlabel('Position of elt. %d'%(elt))\n",
    "    plt.ylabel('Frequency')\n",
    "    # TODO: Implement a xi-squared test \n",
    "    frequency = {}\n",
    "    for index in where:\n",
    "        frequency[index] = frequency.get(index, 0) + 1\n",
    "    exp_frequency = nTrials/n\n",
    "    chi_squared = 0\n",
    "    for index in frequency:\n",
    "        chi_squared += (frequency[index] - exp_frequency)**2/exp_frequency\n",
    "    print(\"Chi-Squared value =\", round(chi_squared,3))\n",
    "    # for now let us eyeball the histograms.\n",
    "    # the histograms must be near uniform. \n",
    "\n",
    "placementTest(30, 10000, 10)\n",
    "placementTest(25, 10000, 7)\n",
    "placementTest(18, 10000, 0)\n",
    "       \n",
    "##  End statistical tests"
   ]
  },
  {
   "cell_type": "markdown",
   "metadata": {},
   "source": [
    "## Problem 2B  (5 Points)\n",
    "\n",
    "Analyze the expected running time of your algorithm in 2(A) and expected number of random bits used?"
   ]
  },
  {
   "cell_type": "markdown",
   "metadata": {},
   "source": [
    "> The expected running time of the algorithm  is $O(n)$<br/>\n",
    "> The algorithm uses $(n-1)$ random bits<br/>\n",
    "> so the expected number of random bits can be given by<br/>\n",
    "     E(random)= 2<sup>(n-1)</sup>\n"
   ]
  },
  {
   "cell_type": "markdown",
   "metadata": {},
   "source": [
    "## Problem 3  (20 points)\n",
    "\n",
    "We insert keys from $1, \\ldots, n$ in a random order into a binary search tree. Throughout this problem,\n",
    "node $i$ refers to a node with key $i$. The _priority_ of a node is the rank order in which it is inserted\n",
    "into the tree with the root having priority $1$ and the very last node to be inserted having priority $n$.\n",
    "\n",
    "In class, we showed that a node $i$ is the ancestor of a node $j$ if and only if $i$ has the lowest priority amongst all nodes $\\{ i, \\ldots, j\\}$ (or $\\{ j, \\ldots, i\\}$ if $j < i$).\n",
    "\n",
    "(A) State and prove a condition for node $k$ to be a leaf in the tree.  For the purposes of this problem, a node is a leaf if both its children are NIL. \n",
    "\n",
    "(B) What is the probability that node $k$ is a leaf? __Hint:__ Your answer should analyze nodes $1, n$ separately from nodes $2, \\ldots, n-1$.\n",
    "\n",
    "(C) Calculate the expected number of leaf nodes. Your answer should be exact: asymptotic notations or bounds are not acceptable.\n"
   ]
  },
  {
   "cell_type": "markdown",
   "metadata": {},
   "source": [
    "**Answer (A)**<br/>\n",
    "**Statement for the condition** \n",
    "> A node K is considered to be a leaf node if and only if  it is inserted after bot its left and right neighbors. The permutations of the neighbours are eqully likely and only two of them have the property that node k is the last one inserted.<br/>\n",
    "> Uniform random permutation is given by<br/>\n",
    "$$(x_1,....x_n)$$<br/>\n",
    "> With Keys we can write it as :<br/>\n",
    "$$((x_1,1),....,(x_n,n))$$<br/>\n",
    "> Inverse permutation is defined as:<br/>\n",
    "$$((1,Y1),..,(n,Yn))$$<br/>\n",
    "> using ancestor - descendant relationship k is a leaf if:<br/>\n",
    "$$Y_k=max(Y_{k−1},Y_k,Y_{k+1})$$\n",
    "> the priority of k should be less than k-1 and k+1\n",
    "\n",
    "**Answer (B)**<br/>\n",
    "> To find the probablity of node k to be a leaf.<br/>\n",
    "> The probablity of node k being leaf node can be of two ways:<br/>\n",
    "$$ Pr(K is Leaf) =\\frac{1}{3} $$ for nodes 2,.....,n-1<br/>\n",
    "$$ Pr(K is Leaf) =\\frac{1}{2} $$ for the first and the last node i.e 1 and n<br/>\n",
    "\n",
    "**Answer (C)**<br/>\n",
    "> The expected number of leaf node can be given by\n",
    "\n",
    ">>$ln$ = E[Number of leaves in random search tree for S=[n]] Where s is a tree when n nodes<br/>\n",
    "\n",
    ">>$ = \\sum_{i=1}^{n} $ E[Number of leaves in random search tree for S=[n]|root=i].Pr[root=i]<br/>\n",
    "\n",
    ">>$=\\sum_{i=1}^{n} (l_{i-1} + l_{n-i}) \\times 1/n$<br/>\n",
    "\n",
    ">>$ =\\frac {2}{n} \\times \\sum_{i=0}^{n-1} l_i$<br/>\n",
    "\n",
    ">>$ Hence, for n ≥ 3:$<br/>\n",
    "\n",
    ">>$\\frac{2}{n}l_n=\\sum_{i=0}^{n-1} l_i$<br/>\n",
    "\n",
    ">>$ \\frac{2}{n-1}l_{n-1}=\\sum_{i=0}^{n-2} l_i$<br/>\n",
    "\n",
    ">> Subtract both the equations<br/>\n",
    "\n",
    ">> $\\frac{2}{n}l_n-\\frac{2}{n-1}l_{n-1}=l_{n-1}$<br/>\n",
    "\n",
    ">>$ \\frac{2}{n}l_n=\\frac{n+1}{n-1}l_{n-1}=\\frac{(n+1).n}{3.2}$<br/>\n",
    "\n",
    ">>$ Hence$<br/>\n",
    "\n",
    ">>$l_n=\\frac{n+1}{3}$<br/>\n",
    "\n"
   ]
  },
  {
   "cell_type": "markdown",
   "metadata": {},
   "source": [
    "## Problem 4 (5 points)\n",
    "\n",
    "We wish to rapidly find the $k^{th}$ smallest element in a skip list. Describe what extra information you would store in each node of the list and how you would find the $k^{th}$ smallest element in a skip list using this information.  What is the running time of your search in the worst case.\n"
   ]
  },
  {
   "cell_type": "markdown",
   "metadata": {},
   "source": [
    ">1. The additional information we would store in each node of the list can be represented by variable askip(p)<br/>\n",
    ">2. The variable contains information about number of nodes in each level from leftmost and uppermost node of the level to the next leftmost and uppermost node in subsequent levels.<br/>\n",
    ">3. We need to store the information about the number of nodes skipped in every level for every node.<br/>\n",
    ">4. It helps in efficiently running the algorithm.<br/>\n",
    "> The worst case running time is $$O(n)$$"
   ]
  },
  {
   "cell_type": "code",
   "execution_count": null,
   "metadata": {},
   "outputs": [],
   "source": []
  }
 ],
 "metadata": {
  "kernelspec": {
   "display_name": "Python 3",
   "language": "python",
   "name": "python3"
  },
  "language_info": {
   "codemirror_mode": {
    "name": "ipython",
    "version": 3
   },
   "file_extension": ".py",
   "mimetype": "text/x-python",
   "name": "python",
   "nbconvert_exporter": "python",
   "pygments_lexer": "ipython3",
   "version": "3.6.5"
  }
 },
 "nbformat": 4,
 "nbformat_minor": 2
}
