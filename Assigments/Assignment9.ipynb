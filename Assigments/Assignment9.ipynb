{
 "cells": [
  {
   "cell_type": "markdown",
   "metadata": {},
   "source": [
    "# CSCI 5454: Assignment 9\n",
    "\n",
    "The assignment may require you to add images to describe solutions. Please include those images with your submission and upload a ZIP file. How to embed an image inside a Jupyter notebook?\n",
    "\n",
    "- Place image in same directory as notebook.\n",
    "- Use HTML tags\n",
    "\n",
    "~~~\n",
    "<img src = \"filename.JPG\" width=\"XX%\">\n",
    "~~~\n",
    "\n",
    "__Example:__\n",
    "\n",
    "<img\n",
    "src=\"https://upload.wikimedia.org/wikipedia/commons/thumb/1/11/GLPK_solution_of_a_travelling_salesman_problem.svg/512px-GLPK_solution_of_a_travelling_salesman_problem.svg.png\" width=\"30%\" >\n"
   ]
  },
  {
   "cell_type": "markdown",
   "metadata": {},
   "source": [
    "## Problem 1: Approximation Ratio For Minimum Makespan Job Scheduling (15 points)\n",
    "\n",
    "In class we studied a greedy approach for distributing $n$ jobs among $m$ processors to achieve\n",
    "a factor $2$ approximation to the optimal solution. In fact, a slightly more careful analysis will\n",
    "show that this factor is actually $2 - \\frac{1}{m}$.\n",
    "\n",
    "For each value of $m$ design $n = m(m-1) + 1$ jobs such that the greedy algorithm's solution\n",
    "is $\\alpha = 2-\\frac{1}{m}$ times the actual optimum.\n",
    "\n",
    "** Hint : ** Create a bunch of \"tiny\" jobs and one big job. How do you make sure that the performance of\n",
    "greedy will be $\\alpha$ times worse than the optimum?"
   ]
  },
  {
   "cell_type": "markdown",
   "metadata": {},
   "source": [
    "> Let $n=m(m-1)+1$ be the total number of jobs.<br/>\n",
    "> Let us consider the following situation.<br/>\n",
    ">>Let $m(m-1)$ jobs have unit processing time and a single job with processing time m.<br/>\n",
    "\n",
    "> Suppose the greedy algorithm schedules all the tiny job befor the big job , then the makespan for the schedule would be $(m-1)+m = (2m-1)$<br/>\n",
    "> the optimal makespan in this case would be $m$<br/>\n",
    "> Hence the algortihm gives a schedule which has makespan  $2-\\frac{1}{m}$ times the optimal"
   ]
  },
  {
   "cell_type": "markdown",
   "metadata": {},
   "source": [
    "## Problem 2: Worst Case for Greedy Vertex Cover (10 Points)\n",
    "\n",
    "We examined a factor 2 approximation for vertex cover in class (see Jeff Erikson's notes).\n",
    "Describe a family of examples consisting of a graph $G_n$ for any $n$ with\n",
    "$n$ vertices wherein the greedy algorithm's vertex cover on $G_n$ is precisely twice as large as\n",
    "the optimal vertex cover."
   ]
  },
  {
   "cell_type": "markdown",
   "metadata": {},
   "source": [
    "**Answer 2**\n",
    "\n",
    "\n",
    "**Algorithm **\n",
    "\n",
    "> Pick an arbitary edge. We know any vertex cover must have atleast one endpoint of it, so lets consider a graph where we take both the endpoints of the edge.<br/>\n",
    "\n",
    "> Then, throw out all edges covered and repeat. Keep going until there are no uncovered edges left.<br/>\n",
    "\n",
    "> The algorithm finds matching in the end.<br/>\n",
    "\n",
    "> A matching referes to a set of edges no two of which share an endpoint and the matching formed by the graph is maximal, meaning g that you can’t add any more edges to it and keep it a matching. <br/>\n",
    "\n",
    ">This means if we take both endpoints of those edges. we must have a vertex cover. In particular, if the algorithm picked k edges, the vertex cover found has size 2k. But, any vertex cover must have size at least k since it needs to have at least one endpoint of each of these edges, and since these edges don’t touch, these are k different vertices.<br/>\n",
    "\n",
    "> So the algorithm is a 2-approximation as desired.<br/>\n",
    "\n",
    "\n",
    "** Family of Examples**\n",
    "\n",
    "> The greedy algorithm's vertex cover on $G_n$ is precisely twice as large as the optimal vertex cover for the following graph.<br/>\n",
    "\n",
    "> Disjoint Bipartite  graph <br/>\n",
    "\n",
    "<img src = \"Bipartite.jpg\" width=\"70%\">\n",
    "\n",
    "\n",
    "\n",
    "\n"
   ]
  },
  {
   "cell_type": "markdown",
   "metadata": {},
   "source": [
    "## Problem 3: TSP Approximation (10 points)\n",
    "\n",
    "Describe a weighted graph with $n$ nodes for any $n$ such that the  weights have the metric property such that the size of the optimum TSP tour is  twice the size of the minimum spanning tree. **Hint** Think straight lines!"
   ]
  },
  {
   "cell_type": "markdown",
   "metadata": {},
   "source": [
    "## Answer 3 (Expected Size: 3 Lines)"
   ]
  },
  {
   "cell_type": "markdown",
   "metadata": {},
   "source": [
    "> The approximation algorithm can be applied to special cases that requires the edge length to satisfy the triangle inequality.<br/>\n",
    "\n",
    "> This inequality is satisfied for geometric graphs where vertices are points in the plane and eges are straight line segments.<br/>\n",
    "\n",
    "**Algorithm to Compute 2-Approximation**\n",
    "\n",
    "> Compute Minimum Spanning tree T<br/>\n",
    "\n",
    "> Do Depth first traversal of T , numbering vertices in the order that we first encounter. Since this tour traverses every edge exactly twice this is 2 times MST. The final tour can be obtained by removing duplicate vertices.<br/>\n",
    "\n",
    "> Return the cycle obtained by visiting the vertices according to the number<br/>\n",
    "\n",
    "> There are n-1 edges which are visited twice during the TSP tour , once on the straight and other on returning from n to 1, therefore it would be $2(n-1)$ where as in the MST it would $(n-1)$ edges visisted in total which is optimal <br/>\n",
    "\n",
    "> so the Tsp tour is 2 times MST<br/>\n",
    "\n",
    "** Graph**\n",
    "\n",
    "**GRAPH WITH N nodes in Straight Line**\n",
    "\n",
    "<img src = \"MST2.JPG\" width=\"80%\">\n",
    "\n",
    "**MST**\n",
    "<img src = \"MST1.jpg\" width=\"80%\">\n"
   ]
  },
  {
   "cell_type": "code",
   "execution_count": null,
   "metadata": {},
   "outputs": [],
   "source": []
  }
 ],
 "metadata": {
  "kernelspec": {
   "display_name": "Python 3",
   "language": "python",
   "name": "python3"
  },
  "language_info": {
   "codemirror_mode": {
    "name": "ipython",
    "version": 3
   },
   "file_extension": ".py",
   "mimetype": "text/x-python",
   "name": "python",
   "nbconvert_exporter": "python",
   "pygments_lexer": "ipython3",
   "version": "3.6.5"
  }
 },
 "nbformat": 4,
 "nbformat_minor": 2
}
