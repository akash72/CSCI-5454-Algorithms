{
 "cells": [
  {
   "cell_type": "markdown",
   "metadata": {},
   "source": [
    "# CSCI 5454 Assignment 2 \n",
    "\n",
    "Your Name Here: __ Akash Iyengar __ "
   ]
  },
  {
   "cell_type": "markdown",
   "metadata": {},
   "source": [
    "## Problem 1: Axioms of Probability (20 points)\n",
    "\n",
    "Let $A$ be a sample space with a set of events $\\{ \\emptyset, E_1, \\ldots, E_n, A \\}$.  We covered the basic axioms\n",
    "of probability in class and recall a few of these axioms here.\n",
    "- $p(\\emptyset) = 0, p(A) = 1$.\n",
    "- $p(E_i) \\geq 0$ and $p(E_i) \\leq 1$ for all events $E_i$.\n",
    "- If $E_1, E_2, \\ldots, E_n$ are pairwise disjoint then $p(E_1 \\cup E_2 \\cup \\cdots \\cup E_n) = p(E_1) + \\cdots + p(E_n) $.\n",
    "\n",
    "Your proof can only use facts about sets, the  axioms above and previously proven facts in this problem. \n",
    "Please write down your proof as a bulleted list as shown below.\n",
    "\n",
    "> __Example__ Prove that if $E_1 \\subseteq E_2$ then $p(E_2 \\setminus E_1) = p(E_2) - p(E_1)$.\n",
    "\n",
    "> __Proof:__  \n",
    "> 1. $E_2 = E_1 \\cup  (E_2 \\setminus E_1) $.\n",
    "> 2. The sets $E_1, (E_2 \\setminus E_1) $ are disjoint. \n",
    "> 3. Therefore, $p(E_2) = p(E_1) + p(E_2 \\setminus E_1)$ (axiom).  \n",
    "> 4. Rearranging, $p(E_2 \\setminus E_1) = p(E_2) - p(E_1)$.\n",
    "\n",
    "(A) Prove that if $E_1 \\subseteq E_2$ then \n",
    "\n",
    "$$p(E_1) \\leq p(E_2)$$.\n",
    "\n",
    "(B) Prove the inclusion-exclusion principle: \n",
    "\n",
    "$$p(E_1 \\cup E_2) = p(E_1) + p(E_2) - p(E_1 \\cap E_2)\\,.$$\n",
    "\n",
    "(**Hint:** Write $E_1 \\cup E_2 = (E_1 \\setminus (E_1 \\cap E_2)) \\bigcup (E_2 \\setminus (E_1 \\cap E_2)) \\bigcup (E_1 \\cap E_2)$. Feel free to use the result already proved in the example above.).\n",
    "\n",
    "(C) Prove Boole's Inequality:\n",
    "\n",
    "$$p(E_1) + p(E_2) - 1 \\leq p(E_1 \\cup E_2) \\leq p(E_1) + p(E_2)\\,.$$\n",
    "\n",
    "(D) Prove Frechet's Inequality:\n",
    "\n",
    "$$p(E_1) + p(E_2) -1 \\leq p(E_1 \\cap E_2) \\leq \\min( p(E_1), p(E_2) )\\,. $$\n",
    "\n",
    "\n"
   ]
  },
  {
   "cell_type": "markdown",
   "metadata": {},
   "source": [
    "> (A): $$E_1 \\subseteq E_2$$.\n",
    ">We need to prove: $$p(E_1) \\leq p(E_2)$$.\n",
    "> 1. $ p(A)=1 = p(E_1)=1 $.\n",
    "> 2. Since $ E_1 \\subseteq E_2$. and E_1 ,E_2, A  are disjoint events. $ p(E_2)=p(E_1)+p(A) $.   \n",
    "> 3. $p(E_1) \\leq p(E_2)$.\n",
    "\n",
    ">(B):Inclusion-Exclusion principle: $$p(E_1 \\cup E_2) = p(E_1) + p(E_2) - p(E_1 \\cap E_2)\\,.$$\n",
    ">1. $p(E_1 \\cup E_2)= p(E_1)+p(E_2 \\setminus E_1)$. [set theory]\n",
    ">2. $p(E_1 \\cup E_2)= p(E_1)+p(E_2 \\setminus E_1) + 0 $. [Adding a zero]\n",
    ">3. $p(E_1 \\cup E_2)= p(E_1)+p(E_2 \\setminus E_1) + p(E_1 \\cap E_2) - p(E_1 \\cap E_2)$. [Zero using intersection]\n",
    ">4. $p(E_1 \\cup E_2)= p(E_1)+(p(E_2 \\setminus E_1) \\bigcup p(E_1 \\cap E_2)) - p(E_1 \\cap E_2)$. [using union operator].\n",
    ">5. $p(E_1 \\cup E_2)= p(E_1)+p(E_2) - p(E_1 \\cap E_2)$.[ through set theory] \n",
    "\n",
    ">(C) Boole's Inequality: $$p(E_1) + p(E_2) - 1 \\leq p(E_1 \\cup E_2) \\leq p(E_1) + p(E_2)\\,.$$\n",
    ">1. Taking the first half $p(E_1) + p(E_2) - 1 \\leq p(E_1 \\cup E_2)$.\n",
    ">2. $p(E_1) + p(E_2) - 1 = p(E_1) + p(E_2) - p(E_1) $. (through axiom 2 where $p(E_1)=1) $.\n",
    ">3. $p(E_2)$.\n",
    ">4.$p(E_1 \\cup E_2)= p(E_1) + p(E_2)$.\n",
    ">5. $p(E_1 \\cup E_2)$. can be written as $p(E_1) + p(E_2)- 0 $. => $p(E_1) + p(E_2)- p(E_1) $.( thorugh axiom 2 where $p(E_1)=0)$.\n",
    ">6. $p(E_2)$. = $p(E_1) + p(E_2) - 1 \\leq p(E_1 \\cup E_2)$.\n",
    ">7. Taking the second half $ p(E_1 \\cup E_2) \\leq p(E_1) + p(E_2)\\,$.\n",
    ">8. If $E_1 and E_2$.  are disjoint, then $ p(E_1 \\cup E_2) = p(E_1) + p(E_2)$.\n",
    ">9. If $E_1 and E_2$.  are not disjoint, then then $ p(E_1 \\cup E_2) = p(E_1) + p(E_2) - p(E_1 \\cap E_2)$.  less than $p(E_1) + p(E_2)$.\n",
    "\n",
    "> (D):Frechet's inequality: $$p(E_1) + p(E_2) -1 \\leq p(E_1 \\cap E_2) \\leq \\min( p(E_1), p(E_2) )\\,. $$\n",
    ">1. Taking the first half $p(E_1) + p(E_2) -1 \\leq p(E_1 \\cap E_2)$.\n",
    ">2. For two events E_1 and E_2 that are NOT disjoint, $p(E_1 \\cup E_2) = p(E_1) + p(E_2) - p(E_1 \\cap E_2) $. ( using inclusion-exclusion principle)\n",
    ">3. Rearranging the equation $p(E_1) + p(E_2) - p(E_1 \\cup E_2) = p(E_1 \\cap E_2)$.\n",
    ">4.  $ p(E_1 \\cup E_2) \\leq 1 $.\n",
    ">5.$p(E_1) + p(E_2) -1 \\leq p(E_1 \\cap E_2)$.\n",
    ">6. Taking the second half $ p(E_1 \\cap E_2) \\leq \\min( p(E_1), p(E_2) )\\,. $.\n",
    ">7. $p(E_1 \\cap E_2) = p(E_1 \\setminus E_2) \\times p(E_2)$.\n",
    ">8. Also $p(E_1 \\cap E_2) = p(E_2 \\setminus E_1) \\times p(E_1)$.\n",
    ">9. $p(E_1 \\setminus E_2) \\leq 1 $. and $p(E_2 \\setminus E_1) \\leq 1$.\n",
    ">10. $p(E_1 \\cap E_2) \\leq p(E_1)$. and $p(E_1 \\cap E_2) \\leq p(E_2)$.\n",
    ">11. $p(E_1 \\cap E_2) \\leq \\min(p(E_1),p(E_2)) $.\n",
    ">12. $p(E_1) + p(E_2) -1 \\leq p(E_1 \\cap E_2) \\leq \\min( p(E_1), p(E_2) )\\,. $ .\n",
    "\n"
   ]
  },
  {
   "cell_type": "markdown",
   "metadata": {},
   "source": [
    "## Problem 2  (20 points)\n",
    "\n",
    "You are given a fair coin that can come up with heads with probability $\\frac{1}{2}$ \n",
    "and tails with probability $\\frac{1}{2}$. Using this coin, we can simulate coins that have\n",
    "a probability $p = \\frac{1}{8}$ of showing up heads, for example. To do this, toss\n",
    "the fair coin three times and return __heads__ if all three tosses are heads, and __tails__ if any\n",
    "of the tosses showed up tails.\n",
    "\n",
    "__(A)__  Design an algorithm that can simulate a biased \"coin\" with probability\n",
    "of heads given by $p = \\frac{21}{64} = \\frac{1}{4} + \\frac{1}{16} + \\frac{1}{64} $.\n",
    "Your algorithm can perform multiple tosses of the fair coin. Your algorithm\n",
    "should return TRUE with probability $\\frac{21}{64}$\n",
    "and  FALSE with probability $1 - \\frac{21}{64}$.\n",
    "\n",
    "__(B)__  Design an algorithm that can simulate a biased coin with probability\n",
    "of heads given by $\\frac{1}{3} = \\frac{1}{2^2} + \\frac{1}{2^4} + \\frac{1}{2^6} + \\frac{1}{2^8} + \\cdots $.\n",
    "Your algorithm can perform multiple tosses of the fair coin. Your algorithm must\n",
    "return TRUE with probability $\\frac{1}{3}$ and  FALSE with probability\n",
    "$\\frac{2}{3}$.\n",
    "\n",
    "Give a justification as to why the probability of your algorithm returning true is $\\frac{1}{3}$.\n",
    "\n",
    "What is the expected running number of times your algorithm will need to toss the fair coin?\n",
    "\n",
    "\n",
    "__How to write the solution__ \n",
    "\n",
    "> 1. initialize  a counter $i = 1$.\n",
    "> 2. Toss the coin.\n",
    ">   - If it shows up heads ...\n",
    ">   - If it shows up tails ...  \n",
    "> .... \n",
    "> ... i = i + 1, and repeat step 2.\n",
    "> \n",
    "> The reason the algorithm works is because, the probability of returning TRUE is given by the expression\n",
    "> $ \\cdots  = \\frac{1}{3}$. The algorithm performs repeated tosses and therefore, .... The expected running time is xx steps."
   ]
  },
  {
   "cell_type": "markdown",
   "metadata": {},
   "source": [
    "> (A)_:  probability of heads occuring is $$p= \\frac{21}{64} = \\frac{1}{4} + \\frac{1}{16} + \\frac{1}{64} $$.\n",
    ">1. Initialize a counter $i=1$.\n",
    ">2. Initialize a sum variable $sum=0$.\n",
    ">3. Initialize the probability of getting a heads  $p(H)=\\frac{1}{2}$.\n",
    ">4. Toss the coin.\n",
    ">  - If it shows up Tails.\n",
    ">  - Break, repeat step 4\n",
    ">  - If it shows up Heads.\n",
    ">  - $sum = sum+ p(H)$.\n",
    ">    - if sum = $ \\frac{21}{64}$.\n",
    ">    - Return True\n",
    ">    - else $i=1+1$, repeat step 4\n",
    ">5. If sum = $ 1 - \\frac{21}{64} $.\n",
    ">    - Return False.\n",
    "\n",
    "> (B) probability of heads given by: $\\frac{1}{3} = \\frac{1}{2^2} + \\frac{1}{2^4} + \\frac{1}{2^6} + \\frac{1}{2^8} + \\cdots $.\n",
    "\n",
    "\n",
    ">1. Initialize a counter $i=1$.\n",
    ">2. Initialize a sum  $sum=0$.\n",
    ">3. Initialize the probability of getting a heads $p(H)=\\frac{1}{2}$.\n",
    ">4. Toss the coin.\n",
    ">  - If it shows up Tails.\n",
    ">  - Break, repeat step 4\n",
    ">  - If it shows up Heads.\n",
    ">  - $sum = sum+ p(H)$.\n",
    ">    - if sum = $ \\frac{1}{3}$.\n",
    ">    - Return True\n",
    ">    - else $i=1+1$, repeat step 4\n",
    ">5. If sum = $ \\frac{2}{3} $.\n",
    ">    - Return False.\n",
    "\n",
    ">The reason the algorithm returns $\\frac{1}{3} $. for heads over multiple tosses of a fair coin is because ,  $\\frac{1}{2^2} + \\frac{1}{2^4} + \\frac{1}{2^6} + \\frac{1}{2^8} + \\cdots$. is a  convergent series that converges to $\\frac{1}{3}$.\n",
    "\n",
    ">$\\frac{1}{2^2} + \\frac{1}{2^4} + \\frac{1}{2^6} + \\frac{1}{2^8} + \\cdots = \\sum \\frac{1}{2^{2n}} $.(with limits 1 to infinity) = $ (\\frac{1}{4})/(1-\\frac{1}{4})$.\n",
    "> $(\\frac{1}{4})/(\\frac{3}{4}) $. = $\\frac{1}{3}$.\n",
    "\n",
    ">The expected running time is 2n steps\n",
    "\n",
    "\n",
    "\n"
   ]
  },
  {
   "cell_type": "markdown",
   "metadata": {},
   "source": [
    "### Problem 2(C), 5 points\n",
    "\n",
    "Implement your scheme in 2(B) to get a function that uses a fair coin obtained by calling the inbuilt function\n",
    "`random.getrandbits(1)` in python to get a random bit and returns `True` with probability $\\frac{1}{3}$.\n",
    "Note that $\\frac{1}{3}$ in binary is given by $0.01010101\\cdots$."
   ]
  },
  {
   "cell_type": "code",
   "execution_count": null,
   "metadata": {},
   "outputs": [],
   "source": [
    "from random import getrandbits\n",
    "def makeOneThirdCoin(): \n",
    "    # binary expansion of 1/3 is 0.0101010101....\n",
    "    # To obtain a random boolean with half probability of true and half probability of false\n",
    "    #         b = bool(getrandbits(1))\n",
    "    while True:\n",
    "        yield 0\n",
    "        yield 1\n",
    "        b=bool(getrandbts(1))\n",
    "    return False"
   ]
  },
  {
   "cell_type": "code",
   "execution_count": null,
   "metadata": {
    "scrolled": false
   },
   "outputs": [],
   "source": [
    "# Test that probability of makeOneThirdCoin() is correct\n",
    "count = 0\n",
    "t = 0\n",
    "nTrials = 10000000\n",
    "for i in range(nTrials): \n",
    "    b = makeOneThirdCoin()\n",
    "    if (b):\n",
    "        count = count + 1\n",
    "print('Count = ', count, ' probability est = ', count/nTrials)"
   ]
  },
  {
   "cell_type": "markdown",
   "metadata": {},
   "source": [
    "## Problem 3 (Coupon Collector's Problem: Experimentally, 15 points)\n",
    "\n",
    "In this problem, we explore the behavior of the coupon's collector problem experimentally. \n",
    "\n",
    "You will need to use random and matplotlib packages for this problem.\n",
    "\n",
    "(A) Complete a python function `simulateCouponCollection(n)` for input ` n > 1` that \n",
    "1. creates a boolean array $b$ of length n initially all false.\n",
    "2. repeatedly generates a uniform random number $j$ from $0$ to $n-1$ and makes $b[j]$ true.\n",
    "3. returns the number of times step 2 needs to be run before all the entries of $b$ become true.\n",
    "The return value is thus the number of coupons collected before all coupons are seen.\n",
    "\n",
    "(B) Next, run `simulateCouponCollection(n)` for $n = 10, 20, 30, ..., 200$.\n",
    "- for each $n$ run the coupon collection at least 1000 times.\n",
    "- Plot the average value of the number of coupons collected against n.\n",
    "- Sample code using matplotlib library is provided.\n",
    "\n",
    "Suggestion: Write a function `runCouponCollectionExperiment()` that varies $n$ over the given range, \n",
    "running `simulateCouponCollection(n)` a thousand times for each n. Compute the average for each \n",
    "n and return a dictionary mapping each `n` to the average value for `n`. \n",
    "Use the provided utility function `plotMap` to plot your map and compare to $1.1 n \\log(n)$. Feel free to augment our simple efforts.\n",
    "\n",
    "(C) Finally fixing $n = 500$, run `simulateCouponCollection(n)` at least 5000 times. And plot a histogram of the results. You will note the \"concentration of measure\" phenomenon clearly. Although the maximum number of trials\n",
    "can be quite large, you will find that the density concentrates closely around $(n \\log(n))$.\n",
    "\n",
    "Suggestion: Write a function `histogramCouponCollection` to obtain the raw data as a list. Use the provided `plotHistogramFromList` function to implement the histogram. Feel free to augment our simple efforts.\n"
   ]
  },
  {
   "cell_type": "code",
   "execution_count": 2,
   "metadata": {},
   "outputs": [],
   "source": [
    "import random\n",
    "from random import randint\n",
    "def simulateCouponCollection(n):\n",
    "    b=[0]*n\n",
    "    c =0\n",
    "    coll=0\n",
    "    while coll<n:\n",
    "        val=random.randint(0,n-1)\n",
    "        c=c+1\n",
    "        if not b[val]:\n",
    "            coll+=1\n",
    "            b[val] =1\n",
    "    return c\n",
    "\n",
    "   "
   ]
  },
  {
   "cell_type": "code",
   "execution_count": 3,
   "metadata": {},
   "outputs": [],
   "source": [
    "def runCouponCollectionExperiment(nMax):\n",
    "    count=0\n",
    "    avg=0\n",
    "    returnData = {}\n",
    "    for n in range(10,200,10):\n",
    "        for p in range(1,1000):\n",
    "            count+= simulateCouponCollection(n)\n",
    "            avg= count /1000\n",
    "        returnData[n]= avg\n",
    "    return returnData"
   ]
  },
  {
   "cell_type": "code",
   "execution_count": 4,
   "metadata": {},
   "outputs": [
    {
     "name": "stdout",
     "output_type": "stream",
     "text": [
      "{10: 29.235, 20: 102.381, 30: 222.562, 40: 391.791, 50: 616.701, 60: 899.611, 70: 1233.698, 80: 1631.386, 90: 2089.676, 100: 2607.974, 110: 3178.215, 120: 3826.227, 130: 4528.71, 140: 5288.25, 150: 6126.516, 160: 7033.194, 170: 8009.361, 180: 9046.084, 190: 10147.579}\n"
     ]
    }
   ],
   "source": [
    "mymap = runCouponCollectionExperiment(200)\n",
    "print(mymap)"
   ]
  },
  {
   "cell_type": "code",
   "execution_count": 5,
   "metadata": {},
   "outputs": [],
   "source": [
    "%matplotlib inline\n",
    "import matplotlib.pyplot as plt\n",
    "import math\n",
    "def plotMap(m, nMax):\n",
    "    n = list(range(10, nMax, 10))\n",
    "    v = []\n",
    "    nlogn = [] \n",
    "    for i in n:\n",
    "        nlogn.append( 1.1* i * math.log(i))\n",
    "        if i in m:\n",
    "            v.append(m[i])\n",
    "        else:\n",
    "            print('Warning: no data for n = ', i)\n",
    "            v.append(0)\n",
    "    plt.plot(n, v, 'go-', label='Avg. Steps to Collect all Coupons', linewidth=2)\n",
    "    plt.plot(n, nlogn, 'r--', label='n log(n)', linewidth=2)\n",
    "    plt.xlabel(\"n\")\n",
    "    plt.ylabel(\"# steps to collect all coupons\")\n",
    "    plt.show()\n",
    "        "
   ]
  },
  {
   "cell_type": "code",
   "execution_count": 7,
   "metadata": {},
   "outputs": [
    {
     "data": {
      "image/png": "[encoded data removed]",
      "text/plain": [
       "<Figure size 432x288 with 1 Axes>"
      ]
     },
     "metadata": {},
     "output_type": "display_data"
    }
   ],
   "source": [
    "plotMap(mymap, 200)"
   ]
  },
  {
   "cell_type": "code",
   "execution_count": 9,
   "metadata": {},
   "outputs": [],
   "source": [
    "def runHistogram(n, numTrials):\n",
    "    lst = []\n",
    "    for i in range(numTrials):\n",
    "        lst.append(simulateCouponCollection(n))\n",
    "    return lst"
   ]
  },
  {
   "cell_type": "code",
   "execution_count": 10,
   "metadata": {},
   "outputs": [],
   "source": [
    "lst = runHistogram(500, 5000)"
   ]
  },
  {
   "cell_type": "code",
   "execution_count": 11,
   "metadata": {},
   "outputs": [],
   "source": [
    "def plotHistogramFromList(lst):\n",
    "    plt.hist(lst, density=True, bins=50)\n",
    "    plt.ylabel('Probability')\n",
    "    plt.xlabel('# steps to collect all coupons')\n",
    "    plt.show()"
   ]
  },
  {
   "cell_type": "code",
   "execution_count": 52,
   "metadata": {},
   "outputs": [
    {
     "data": {
      "image/png": "[encoded data removed]",
      "text/plain": [
       "<Figure size 432x288 with 1 Axes>"
      ]
     },
     "metadata": {},
     "output_type": "display_data"
    }
   ],
   "source": [
    "plotHistogramFromList(lst)"
   ]
  },
  {
   "cell_type": "code",
   "execution_count": null,
   "metadata": {},
   "outputs": [],
   "source": []
  },
  {
   "cell_type": "code",
   "execution_count": null,
   "metadata": {},
   "outputs": [],
   "source": []
  }
 ],
 "metadata": {
  "kernelspec": {
   "display_name": "Python 3",
   "language": "python",
   "name": "python3"
  },
  "language_info": {
   "codemirror_mode": {
    "name": "ipython",
    "version": 3
   },
   "file_extension": ".py",
   "mimetype": "text/x-python",
   "name": "python",
   "nbconvert_exporter": "python",
   "pygments_lexer": "ipython3",
   "version": "3.6.5"
  }
 },
 "nbformat": 4,
 "nbformat_minor": 2
}
