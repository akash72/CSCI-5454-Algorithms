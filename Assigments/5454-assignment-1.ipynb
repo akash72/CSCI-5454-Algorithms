{
 "cells": [
  {
   "cell_type": "markdown",
   "metadata": {},
   "source": [
    "# CSCI 5454 Assignment 1\n",
    "\n",
    "This assignment should be solved in the notebook and the saved notebook with answers should be uploaded.\n",
    "\n",
    "Do not forget to edit your name here.\n",
    "\n",
    "__Name:__ AKASH IYENGAR\n",
    "\n",
    "__Collaborated With:__  N/A\n",
    "\n",
    "The collaboration/anti-plagiarism policy for this course can be found in the course website.\n",
    "\n",
    "This assignment is to be completed and uploaded to  moodle as a python3 notebook. \n",
    "Submission deadlines are posted on moodle. \n",
    "\n",
    "The questions  provided  below will ask you to either write code or \n",
    "write answers in the form of markdown. Markdown syntax guide is here: [click here](https://github.com/adam-p/markdown-here/wiki/Markdown-Cheatsheet). Using markdown you can typeset formulae using latex. This way you can write nice readable answers with formulae like thus:\n",
    "\n",
    "> The algorithm runs in time $\\Theta\\left(n^{2.1\\log_2(\\log_2( n \\log^*(n)))}\\right)$, \n",
    "wherein $\\log^*(n)$ is the inverse _Ackerman_ function.\n",
    "\n",
    "__Double click anywhere on this box to find out how your instructor typeset it. Press Shift+Enter to go back. __\n"
   ]
  },
  {
   "cell_type": "markdown",
   "metadata": {},
   "source": [
    "## Problem 1: Binary Search Tree\n",
    "\n",
    "The code below implements a python3 class for _binary tree_. The main class is called `Node`. It implements a node of the tree and has a `leftChild` and `rightChild`. Do not edit the code provided."
   ]
  },
  {
   "cell_type": "code",
   "execution_count": 1,
   "metadata": {},
   "outputs": [],
   "source": [
    "## DO NOT EDIT THIS CLASS\n",
    "class Node: \n",
    "    # A binary search tree node class in Python3\n",
    "    def __init__(self, n): \n",
    "        self.key = n # Set the key to number n\n",
    "        self.left = None # Currently left child is a leaf denoted by None \n",
    "        self.right = None # right child is a leaf denoted by None\n",
    "        \n",
    "    def addLeftSubtree(self, lNode): # Replace the left child with lNode\n",
    "        self.left = lNode\n",
    "        \n",
    "    def addRightSubtree(self, rNode): # Replace the right child with rNode\n",
    "        self.right = rNode\n",
    "        \n",
    "    def addSubtree(self, lNode, rNode): # Add both left and right nodes\n",
    "        self.addLeftSubtree(lNode)\n",
    "        self.addRightSubtree(rNode)\n",
    "## END-DO NOT EDIT"
   ]
  },
  {
   "cell_type": "markdown",
   "metadata": {},
   "source": [
    "Your job is to implement a function called `isBinarySearchTree(rootNode)` that given the root node (of type `Node`)\n",
    "will return `True` if the node is a Binary Search Tree and `False` otherwise.  Recall that a binary search tree has the property that:\n",
    "- the key for every node is _greater than or equal to_ all nodes in its left subtree and likewise \n",
    "- the key of every node is _less than or equal to_ all nodes in its right subtree.\n",
    "\n",
    "Your solution should use recursion and you are welcome to create/use an auxilliary helper function to be called from `isBinarySearchTree`. All your answer should be in the box below."
   ]
  },
  {
   "cell_type": "code",
   "execution_count": 1,
   "metadata": {},
   "outputs": [],
   "source": [
    "def isBinarySearchTree(rootNode):\n",
    "    a = 100000\n",
    "    b= -100000\n",
    "    return (isBinarySearchT(rootNode, a, b))\n",
    "def isBinarySearchT(rootNode, minval, maxval):\n",
    "    if rootNode is None:\n",
    "        return True\n",
    "    if rootNode.key < minval or rootNode.key > maxval:\n",
    "        return False\n",
    "    return (isBinarySearchT(rootNode.left, minval, rootNode.key -1) and isBinarySearchT(rootNode.right, rootNode.key +1, maxval))\n",
    "    "
   ]
  },
  {
   "cell_type": "code",
   "execution_count": 2,
   "metadata": {},
   "outputs": [
    {
     "ename": "NameError",
     "evalue": "name 'Node' is not defined",
     "output_type": "error",
     "traceback": [
      "\u001b[1;31m---------------------------------------------------------------------------\u001b[0m",
      "\u001b[1;31mNameError\u001b[0m                                 Traceback (most recent call last)",
      "\u001b[1;32m<ipython-input-2-4ac851960ad6>\u001b[0m in \u001b[0;36m<module>\u001b[1;34m()\u001b[0m\n\u001b[0;32m      5\u001b[0m \u001b[1;31m# Tree number 1\u001b[0m\u001b[1;33m\u001b[0m\u001b[1;33m\u001b[0m\u001b[0m\n\u001b[0;32m      6\u001b[0m \u001b[1;33m\u001b[0m\u001b[0m\n\u001b[1;32m----> 7\u001b[1;33m \u001b[0mnode4\u001b[0m \u001b[1;33m=\u001b[0m \u001b[0mNode\u001b[0m\u001b[1;33m(\u001b[0m\u001b[1;36m1\u001b[0m\u001b[1;33m)\u001b[0m\u001b[1;33m\u001b[0m\u001b[0m\n\u001b[0m\u001b[0;32m      8\u001b[0m \u001b[0mnode5\u001b[0m \u001b[1;33m=\u001b[0m \u001b[0mNode\u001b[0m\u001b[1;33m(\u001b[0m\u001b[1;33m-\u001b[0m\u001b[1;36m1\u001b[0m\u001b[1;33m)\u001b[0m\u001b[1;33m\u001b[0m\u001b[0m\n\u001b[0;32m      9\u001b[0m \u001b[0mnode6\u001b[0m \u001b[1;33m=\u001b[0m \u001b[0mNode\u001b[0m\u001b[1;33m(\u001b[0m\u001b[1;36m3\u001b[0m\u001b[1;33m)\u001b[0m\u001b[1;33m\u001b[0m\u001b[0m\n",
      "\u001b[1;31mNameError\u001b[0m: name 'Node' is not defined"
     ]
    }
   ],
   "source": [
    "## THIS IS TEST CODE.\n",
    "from IPython.core.display import HTML\n",
    "## TEST CODE: DO NOT EDIT\n",
    "\n",
    "# Tree number 1\n",
    "\n",
    "node4 = Node(1)\n",
    "node5 = Node(-1)\n",
    "node6 = Node(3)\n",
    "\n",
    "node4.addSubtree(node5, node6)\n",
    "\n",
    "node1 = Node(20)\n",
    "node1.addLeftSubtree(node4)\n",
    "\n",
    "node2 = Node(30)\n",
    "node3 = Node(40)\n",
    "node2.addLeftSubtree(node1)\n",
    "node2.addRightSubtree(node3)\n",
    "\n",
    "rootNode1 = node2\n",
    "\n",
    "\n",
    "# Tree number 2\n",
    "\n",
    "node1 = Node(15)\n",
    "node2 = Node(54)\n",
    "node3 = Node(45)\n",
    "node3.addSubtree(node2, node1)\n",
    "node4 = Node(115)\n",
    "node5 = Node(94)\n",
    "node5.addSubtree(node3, node4)\n",
    "node6 = Node(18)\n",
    "node7 = Node(23)\n",
    "node9 = Node(20)\n",
    "node9.addSubtree(node6, node7)\n",
    "\n",
    "rootNode2 = Node(55)\n",
    "rootNode2.addSubtree(node9, node5)\n",
    "\n",
    "# Tree number 3\n",
    "\n",
    "rootNode3 = Node(20)\n",
    "\n",
    "# Tree number 4\n",
    "\n",
    "node11 = Node(18)\n",
    "node12 = Node(26)\n",
    "node13 = Node(12)\n",
    "node14 = Node(29)\n",
    "\n",
    "node11.addSubtree(None, node12)\n",
    "node12.addSubtree(node13, node14)\n",
    "\n",
    "rootNode4 = node11\n",
    "\n",
    "try:\n",
    "    assert isBinarySearchTree(rootNode1), 'Test 1 Failed: expected answer True, your answer False'\n",
    "    print('Test 1 Passed!')\n",
    "    assert not isBinarySearchTree(rootNode2), 'Test 2 Failed: expected answer False, your answer True'\n",
    "    print('Test 2 Passed!')\n",
    "    assert isBinarySearchTree(rootNode3), 'Test 3 Failed: expected answer True, your answer False'\n",
    "    print('Test 3 Passed!')\n",
    "    assert not isBinarySearchTree(rootNode4), 'Test 3 Failed: expected answer False, your answer True'\n",
    "    print('Test 4 Passed!')\n",
    "    \n",
    "except NotImplementedError:\n",
    "    display(HTML('<font color=\"red\"> Nothing Implemented Yet. </font>'))\n",
    "\n",
    "## END-DO NOT EDIT"
   ]
  },
  {
   "cell_type": "markdown",
   "metadata": {},
   "source": [
    "## Problem 2: Summation.\n",
    "\n",
    "Calculate a closed form value for the following \"arithmetic-geometric\" summation:\n",
    "\n",
    "$$ T(h) = 1 \\times 2^1 + 2 \\times 2^2 + 3 \\times 2^3 + \\cdots + h \\times 2^h $$."
   ]
  },
  {
   "cell_type": "markdown",
   "metadata": {},
   "source": [
    ">General Equation for a arithemetico geometric series\n",
    "$$ T(n) = q1\\times g1 + (q1 \\times g1 + d\\times g1)\\times r + (q1 \\times g1 + 2d\\times g1)\\times r^2 + (q1 \\times g1 + 3d\\times g1)\\times r^3 +.........+ (q1 \\times g1 + nd\\times g1)\\times r^n $$\n",
    "> where<br/>\n",
    "> q1= first term of arithemetic series<br/>\n",
    ">g1 = first term of geometric series<br/>\n",
    ">r= ratio in which geometric series progresses<br/>\n",
    ">d= Difference in arithemetic series<br/>\n",
    ">In the given equation<br/>\n",
    ">Equation-1<br/>\n",
    "$$ T(h) = 1 \\times 2^1 + 2 \\times 2^2 + 3 \\times 2^3 + \\cdots + h \\times 2^h $$.\n",
    ">Equation-2<br/>\n",
    "$$ rT(h) = 1 \\times 2^2 + 2 \\times 2^3 + 3 \\times 2^4 + \\cdots + h \\times 2^h+1 $$.\n",
    "$$ r = 2 $$.\n",
    ">Subtract Equation 1 from 2<br/>\n",
    "$$ 2T(h) = 1 \\times 2^2 + 2 \\times 2^3 + 3 \\times 2^4 + \\cdots + h \\times 2^h+1 $$.\n",
    "$$ 2T(h)-T(h) = (1 \\times 2^2 + 2 \\times 2^3 + 3 \\times 2^4 + \\cdots + h \\times 2^h+1) - ( 1 \\times 2^1 + 2 \\times 2^2 + 3 \\times 2^3 + \\cdots + h \\times 2^h $$.\n",
    "$$ T(h) = ( 1+ (h-1) \\times 1) \\times 2 \\times 2^h ) - ((1 \\times 2 )- (1 \\times 2 \\times 2 \\times (2^h \\times 2^1) -1)/1) $$.\n",
    "> the closed form value for the given equation can be deifned as:<br/>\n",
    "$$ 2 \\times( 1 - 2^h \\times (1 - h)) $$.\n",
    "\n",
    "\n",
    ">refered :- Introduction to Algorithms by harles E. Leiserson, Clifford Stein, Ronald Rivest, and Thomas H. Cormen\n",
    "\n"
   ]
  },
  {
   "cell_type": "markdown",
   "metadata": {},
   "source": [
    "## Problem 3: Binary Search Trees\n",
    "\n",
    "Recall that the height of a node in a binary search tree is defined as follows:\n",
    "- height(leaf) = 0\n",
    "- height(internal node) = 1 + max( height(left child), height(right child) ) \n",
    "\n",
    "A perfectly balanced tree is one where for every internal node, the height of the left child and that of the right child are the same.\n",
    "\n",
    "\n",
    "The quantity $S(h)$ sums up the height of all internal nodes for a perfectly balanced tree whose root has  height $h$.\n",
    "\n",
    "$$S(h) = \\sum_{v \\in InternalNodes} \\text{height}(v) $$ \n",
    "\n",
    "\n",
    "__(A)__ Set up a recurrence $S(h)$ for this summation. Do not forget to write down $S(0), S(1)$.\n",
    "\n",
    "__(B)__ Solve the recurrence from __(A)__ using the expansion method."
   ]
  },
  {
   "cell_type": "markdown",
   "metadata": {},
   "source": [
    ">(A):<br/>\n",
    "> let us consider the height of the root to be h<br/>\n",
    "> let number of nodes in each level be</br>\n",
    "$$ a^{h+1}-1 $$.Equation 1<br/>\n",
    ">where a=2\n",
    "$$ 2^{h+1}-1 $$.Equation 2<br/>\n",
    ">Since it is given that the leaf node has h=0<br/>\n",
    ">The sum of the heights at h(0)=0<br/>\n",
    ">The sum of the heights at h(1)=1<br/>\n",
    ">The sum of the heights at h(2)=4<br/>\n",
    ">The sum of the heights at h(3)=11<br/>\n",
    ">The height of the tree increseases arithmetically with a difference of 1<br/>\n",
    "$$ \\text {S}(0) = 0 $$.\n",
    "$$ \\text{S}(1) =1 $$.\n",
    "> The recurrence for the function with summation is given by<br/>\n",
    "$$ S(2^{h+1}-1) = S(2^h -1)+ (2^h -1) $$. \n",
    ">Expansion method for the given reccurence relation:<br/>\n",
    ">General Equation <br/>\n",
    "$$ = S(2^{h-c}-1) = S(2^{h-(c+1)} -(c+2))+ (c+2)(2^h -1) $$.\n",
    "$$S(2^{h}-1) = S(2^{h-1} -1 -1)+ 2(2^h -1) $$. \n",
    "$$ S(2^{h-1}-1) = S(2^{h-2} -1 -1 -1)+ 3(2^h -1) $$.  \n",
    "$$S(2^{h-1}-1) = S(2^{h-2} -3)+ 3(2^h -1) $$.\n",
    "$$ = S(2^{h-2}-1) = S(2^{h-3} -4)+ 4(2^h -1) $$.\n",
    "> The summation function for the heights of a binary tree is given by:<br/>\n",
    "$$ S(h)= 2^{c+1}-(c)-1 = 2^{c+1}-c +2 $$\n",
    "\n",
    "\n",
    "\n"
   ]
  },
  {
   "cell_type": "markdown",
   "metadata": {},
   "source": [
    "## Problem 4\n",
    "\n",
    "Problem 3 asked you to calculate the summation of the heights of the internal nodes for a perfectly balanced\n",
    "tree. We now ask you to write down the worst case amongst all possible binary trees with $n$ internal nodes.\n",
    "\n",
    "$$ T(n) = \\sum_{v \\in Internal Nodes} height(v) $$.\n",
    "\n",
    "You should express your answer in the $\\Theta(\\cdot)$ notation. Also describe in one line what kind of tree yields this worst case."
   ]
  },
  {
   "cell_type": "markdown",
   "metadata": {},
   "source": [
    ">The worst case time complexity among all the possible binary tree is $$ \\Theta(n) $$.\n",
    "> Among all possible binary trees, the worst time complexity is found in an unbalanced tree where the number of child nodes are not the same on both the sides of the tree. This tree is also called a degenerate tree or pathological binary tree.<br/>\n",
    ">The degenerate tree is a tree which just has one child for every node.<br/>\n",
    ">The tree acts like a list as its a unbalanced binary tree.<br/>\n",
    "\n",
    "\n",
    "\n",
    ">Refered :- geeksforgeeks.org\n",
    "\n"
   ]
  },
  {
   "cell_type": "code",
   "execution_count": null,
   "metadata": {},
   "outputs": [],
   "source": []
  }
 ],
 "metadata": {
  "kernelspec": {
   "display_name": "Python 3",
   "language": "python",
   "name": "python3"
  },
  "language_info": {
   "codemirror_mode": {
    "name": "ipython",
    "version": 3
   },
   "file_extension": ".py",
   "mimetype": "text/x-python",
   "name": "python",
   "nbconvert_exporter": "python",
   "pygments_lexer": "ipython3",
   "version": "3.6.5"
  }
 },
 "nbformat": 4,
 "nbformat_minor": 2
}
